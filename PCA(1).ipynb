{
  "nbformat": 4,
  "nbformat_minor": 0,
  "metadata": {
    "colab": {
      "provenance": []
    },
    "kernelspec": {
      "name": "python3",
      "display_name": "Python 3"
    },
    "language_info": {
      "name": "python"
    }
  },
  "cells": [
    {
      "cell_type": "markdown",
      "source": [
        "#PCA\n"
      ],
      "metadata": {
        "id": "hqGYjRJYHnpd"
      }
    },
    {
      "cell_type": "code",
      "execution_count": null,
      "metadata": {
        "colab": {
          "base_uri": "https://localhost:8080/"
        },
        "id": "dgowPvkQLL3h",
        "outputId": "130a4fc0-5cdf-4108-fc6f-baa07c547547"
      },
      "outputs": [
        {
          "output_type": "stream",
          "name": "stdout",
          "text": [
            "[[-4.99953747 -0.06800833]\n",
            " [-2.20523715  0.37003933]\n",
            " [-0.58906316 -0.80808699]\n",
            " [ 0.58906316  0.80808699]\n",
            " [ 2.20523715 -0.37003933]\n",
            " [ 4.99953747  0.06800833]]\n"
          ]
        }
      ],
      "source": [
        "import numpy as np\n",
        "from sklearn.decomposition import PCA\n",
        "from sklearn.preprocessing import StandardScaler\n",
        "\n",
        "X=np.array([[126,78],[128,80],[128,82],[130,82],[130,84],[132,86]])\n",
        "pca=PCA()\n",
        "X_projected=pca.fit_transform(X)\n",
        "print(X_projected)\n",
        "#print(pca.explained_variance_ratio_)"
      ]
    },
    {
      "cell_type": "code",
      "source": [
        "'''using numpy'''\n",
        "class PCA1:\n",
        "  def __init__(self):\n",
        "    self.components=None #if self.components=1\n",
        "    self.mean=None\n",
        "  def fit(self,X):\n",
        "    self.mean=np.mean(X,axis=0)\n",
        "    X=X-self.mean\n",
        "    cov=np.cov(X.T,ddof=1)\n",
        "    eigenvalues,eigenvectors=np.linalg.eig(cov)\n",
        "    idx=eigenvalues.argsort()[::-1]\n",
        "    eigenvalues=eigenvalues[idx]\n",
        "    eigenvectors=eigenvectors[:,idx]\n",
        "    print(eigenvectors)\n",
        "    X_projected=np.dot(X,eigenvectors.T)\n",
        "    return X_projected# return X_projected[]\n",
        "\n"
      ],
      "metadata": {
        "id": "9Oap-8oqMx5B"
      },
      "execution_count": null,
      "outputs": []
    },
    {
      "cell_type": "code",
      "source": [
        "pca2=PCA1()\n",
        "X_projected1=pca2.fit(X)\n",
        "print(X_projected1)\n",
        "print(\"shape of x: \",X.shape)\n",
        "print(\"shape of x_projected: \",X_projected1.shape)"
      ],
      "metadata": {
        "colab": {
          "base_uri": "https://localhost:8080/"
        },
        "id": "aLmfbRwzPdS5",
        "outputId": "a2191de1-0021-4580-b181-866579859dc8"
      },
      "execution_count": null,
      "outputs": [
        {
          "output_type": "stream",
          "name": "stdout",
          "text": [
            "[[-0.58906316 -0.80808699]\n",
            " [-0.80808699  0.58906316]]\n",
            "[[ 4.99953747  0.06800833]\n",
            " [ 2.20523715 -0.37003933]\n",
            " [ 0.58906316  0.80808699]\n",
            " [-0.58906316 -0.80808699]\n",
            " [-2.20523715  0.37003933]\n",
            " [-4.99953747 -0.06800833]]\n",
            "shape of x:  (6, 2)\n",
            "shape of x_projected:  (6, 2)\n"
          ]
        }
      ]
    },
    {
      "cell_type": "code",
      "source": [
        "'''using numpy using components'''\n",
        "class PCA3:\n",
        "  def __init__(self):\n",
        "    self.components=1\n",
        "    self.mean=None\n",
        "  def fit(self,X):\n",
        "    self.mean=np.mean(X,axis=0)\n",
        "    X=X-self.mean\n",
        "    cov=np.cov(X.T,ddof=1)\n",
        "    eigenvalues,eigenvectors=np.linalg.eig(cov)\n",
        "    idx=eigenvalues.argsort()[::-1]\n",
        "    eigenvalues=eigenvalues[idx]\n",
        "    eigenvectors=eigenvectors[:,idx]\n",
        "    #print(eigenvectors)\n",
        "    X_projected=np.dot(X,eigenvectors.T)\n",
        "    #X_projected=X_projected[:,:self.components]\n",
        "    #print(X_projected)\n",
        "    new_array=[]\n",
        "    for x in X_projected:\n",
        "      new_array.append(x[:self.components])\n",
        "    X_projected=np.array(new_array)\n",
        "    #print(new_array'''\n",
        "    return X_projected# return X_projected[]\n",
        "\n"
      ],
      "metadata": {
        "id": "pSgua_fAPoYK"
      },
      "execution_count": null,
      "outputs": []
    },
    {
      "cell_type": "code",
      "source": [
        "pca3=PCA3()\n",
        "X_projected12=pca3.fit(X)\n",
        "print(X_projected12)\n",
        "print(\"shape of x: \",X.shape)\n",
        "print(\"shape of x_projected: \",X_projected12.shape)"
      ],
      "metadata": {
        "colab": {
          "base_uri": "https://localhost:8080/"
        },
        "id": "n6j50APLSHXb",
        "outputId": "9414f1ee-1c99-4e40-e2aa-6113b00dcda7"
      },
      "execution_count": null,
      "outputs": [
        {
          "output_type": "stream",
          "name": "stdout",
          "text": [
            "[[ 4.99953747]\n",
            " [ 2.20523715]\n",
            " [ 0.58906316]\n",
            " [-0.58906316]\n",
            " [-2.20523715]\n",
            " [-4.99953747]]\n",
            "shape of x:  (6, 2)\n",
            "shape of x_projected:  (6, 1)\n"
          ]
        }
      ]
    },
    {
      "cell_type": "code",
      "source": [],
      "metadata": {
        "id": "r6TgpRd1SO_t"
      },
      "execution_count": null,
      "outputs": []
    }
  ]
}