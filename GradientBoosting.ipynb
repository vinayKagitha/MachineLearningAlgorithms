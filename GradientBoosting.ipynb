{
  "nbformat": 4,
  "nbformat_minor": 0,
  "metadata": {
    "colab": {
      "provenance": []
    },
    "kernelspec": {
      "name": "python3",
      "display_name": "Python 3"
    },
    "language_info": {
      "name": "python"
    }
  },
  "cells": [
    {
      "cell_type": "code",
      "execution_count": null,
      "metadata": {
        "id": "n1aWDYyGELig"
      },
      "outputs": [],
      "source": [
        "import numpy as np\n",
        "\n",
        "class Node:\n",
        "    def __init__(self, feature_index=None, threshold=None, left=None, right=None, info_gain=None, value=None):\n",
        "        self.feature_index = feature_index\n",
        "        self.threshold = threshold\n",
        "        self.left = left\n",
        "        self.right = right\n",
        "        self.info_gain = info_gain\n",
        "        self.value = value\n",
        "\n",
        "    def is_leaf_node(self):\n",
        "        return self.value is not None\n",
        "\n",
        "class DecisionTreeRegressor:\n",
        "    def __init__(self, max_depth = 3):\n",
        "        self.max_depth = max_depth\n",
        "        self.root = None\n",
        "\n",
        "    def fit(self, x, y):\n",
        "        self.root = self.build_tree(x, y)\n",
        "\n",
        "    def _mean_of_labels(self, y):\n",
        "        return np.mean(y)\n",
        "\n",
        "    def build_tree(self, x, y, depth=0):\n",
        "        num_samples, num_features = x.shape\n",
        "        num_labels = len(np.unique(y))\n",
        "\n",
        "        if num_labels == 1 or self.max_depth is not None and depth >= self.max_depth:\n",
        "            leaf_value = self._mean_of_labels(y)\n",
        "            return Node(value=leaf_value)\n",
        "\n",
        "        feature_index = np.arange(num_features)\n",
        "        best_feature, best_threshold = self._best_split(x, y, feature_index)\n",
        "\n",
        "        left_indices, right_indices = self._split(x[:, best_feature], best_threshold)\n",
        "        left = self.build_tree(x[left_indices, :], y[left_indices],depth+1)\n",
        "        right = self.build_tree(x[right_indices, :], y[right_indices],depth+1)\n",
        "        return Node(best_feature, best_threshold, left, right)\n",
        "\n",
        "    def _most_common_label(self, y):\n",
        "        unique_labels, counts = np.unique(y, return_counts=True)\n",
        "        return unique_labels[np.argmax(counts)]\n",
        "\n",
        "    def _split(self, x, threshold):\n",
        "        left_indices = np.argwhere(x <= threshold).flatten()\n",
        "        right_indices = np.argwhere(x > threshold).flatten()\n",
        "        return left_indices, right_indices\n",
        "\n",
        "    def _best_split(self, x, y, feature_index):\n",
        "        best_gain, split_index, split_threshold = float('-inf'), None, None\n",
        "\n",
        "        for feature in feature_index:\n",
        "            x_column = x[:, feature]\n",
        "            x_column_sorted = np.sort(x_column)\n",
        "            thresholds = (x_column_sorted[:-1] + x_column_sorted[1:]) / 2\n",
        "\n",
        "            for threshold in thresholds:\n",
        "                gain = self._information_gain(y, x_column, threshold)\n",
        "\n",
        "                if gain > best_gain:\n",
        "                    best_gain = gain\n",
        "                    split_index = feature\n",
        "                    split_threshold = threshold\n",
        "\n",
        "        return split_index, split_threshold\n",
        "\n",
        "    def _information_gain(self, y, x_column, threshold):\n",
        "        parent_entropy = self._entropy(y)\n",
        "\n",
        "        left_indices, right_indices = self._split(x_column, threshold)\n",
        "\n",
        "        if len(left_indices) == 0 or len(right_indices) == 0:\n",
        "            return 0\n",
        "\n",
        "        n, n_l, n_r = len(y), len(left_indices), len(right_indices)\n",
        "        e_l, e_r = self._entropy(y[left_indices]), self._entropy(y[right_indices])\n",
        "\n",
        "        child_entropy = (n_l / n) * e_l + (n_r / n) * e_r\n",
        "        information_gain = parent_entropy - child_entropy\n",
        "\n",
        "        return information_gain\n",
        "\n",
        "    def _entropy(self, y):\n",
        "        y_mean = np.mean(y)\n",
        "        return np.mean((y-y_mean)**2)\n",
        "\n",
        "    def predict(self, X):\n",
        "        return np.array([self._traverse_tree(x, self.root) for x in X])\n",
        "\n",
        "    def _traverse_tree(self, x, node):\n",
        "        if node.is_leaf_node():\n",
        "            return node.value\n",
        "        if x[node.feature_index] <= node.threshold:\n",
        "            return self._traverse_tree(x, node.left)\n",
        "        return self._traverse_tree(x, node.right)\n"
      ]
    },
    {
      "cell_type": "code",
      "source": [
        "X = np.array([[1,2],[2,3],[3,4],[4,5],[5,6]])\n",
        "y=np.array([1,1,0,0,0])"
      ],
      "metadata": {
        "id": "-QlXYNjNGmTi"
      },
      "execution_count": null,
      "outputs": []
    },
    {
      "cell_type": "code",
      "source": [
        "regressor = DecisionTreeRegressor()\n",
        "regressor.fit(X,y)\n",
        "\n",
        "y_pred = regressor.predict(X)"
      ],
      "metadata": {
        "id": "GWpTNxX9G6NZ"
      },
      "execution_count": null,
      "outputs": []
    },
    {
      "cell_type": "code",
      "source": [
        "mse = np.mean((y_pred - y) ** 2)\n",
        "print(\"Mean Squared Error:\", mse)\n",
        "\n",
        "def r2_score_percentage(y_true, y_pred):\n",
        "  tss = np.sum((y_true - np.mean(y_true)) ** 2)\n",
        "  rss = np.sum((y_true - y_pred) ** 2)\n",
        "  r2_score = 1 - (rss / tss)\n",
        "\n",
        "  r2_percentage = r2_score * 100\n",
        "\n",
        "  return r2_percentage\n",
        "\n",
        "r2_percentage = r2_score_percentage(y, y_pred)\n",
        "print(\"R2 Score (Percentage):\", r2_percentage)"
      ],
      "metadata": {
        "colab": {
          "base_uri": "https://localhost:8080/"
        },
        "id": "YHbjq6zJHTzh",
        "outputId": "a98b4b2e-509b-49c0-9e17-2c0cae97eb02"
      },
      "execution_count": null,
      "outputs": [
        {
          "output_type": "stream",
          "name": "stdout",
          "text": [
            "Mean Squared Error: 0.0\n",
            "R2 Score (Percentage): 100.0\n"
          ]
        }
      ]
    },
    {
      "cell_type": "code",
      "source": [],
      "metadata": {
        "id": "oF9kCM5MIiIT"
      },
      "execution_count": null,
      "outputs": []
    },
    {
      "cell_type": "markdown",
      "source": [
        "# Gradient Boosting"
      ],
      "metadata": {
        "id": "bgWt1kNBM6Zk"
      }
    },
    {
      "cell_type": "code",
      "source": [
        "from sklearn.ensemble import GradientBoostingRegressor\n",
        "\n",
        "X = np.array([[1,2],[2,3],[3,4],[4,5],[5,6]])\n",
        "y=np.array([1,1,0,0,0])\n",
        "\n",
        "regressor = GradientBoostingRegressor(n_estimators=100, learning_rate=0.1, max_depth=3, random_state=42)\n",
        "regressor.fit(X, y)\n",
        "\n",
        "y_pred = regressor.predict(X)\n",
        "\n",
        "mse = np.mean((y_pred - y) ** 2)\n",
        "print(\"Mean Squared Error:\", mse)\n",
        "\n",
        "def r2_score_percentage(y_true, y_pred):\n",
        "  tss = np.sum((y_true - np.mean(y_true)) ** 2)\n",
        "  rss = np.sum((y_true - y_pred) ** 2)\n",
        "  r2_score = 1 - (rss / tss)\n",
        "\n",
        "  r2_percentage = r2_score * 100\n",
        "\n",
        "  return r2_percentage\n",
        "\n",
        "r2_percentage = r2_score_percentage(y, y_pred)\n",
        "print(\"R2 Score (Percentage):\", r2_percentage)"
      ],
      "metadata": {
        "colab": {
          "base_uri": "https://localhost:8080/"
        },
        "id": "Wd7YrZPHM_A9",
        "outputId": "3d030908-c91c-483e-ba04-dcfae04c87f3"
      },
      "execution_count": null,
      "outputs": [
        {
          "output_type": "stream",
          "name": "stdout",
          "text": [
            "Mean Squared Error: 1.6932189860901083e-10\n",
            "R2 Score (Percentage): 99.99999992944922\n"
          ]
        }
      ]
    },
    {
      "cell_type": "code",
      "source": [],
      "metadata": {
        "id": "1xWeG6QwNYxU"
      },
      "execution_count": null,
      "outputs": []
    },
    {
      "cell_type": "markdown",
      "source": [
        "# Gradient Boosting using Numpy"
      ],
      "metadata": {
        "id": "N6FvuQSrOIRS"
      }
    },
    {
      "cell_type": "code",
      "source": [
        "class GradientBoostingRegressor:\n",
        "  def __init__(self, n_estimators=100, learning_rate=0.1, max_depth=3):\n",
        "    self.n_estimators = n_estimators\n",
        "    self.learning_rate = learning_rate\n",
        "    self.max_depth = max_depth\n",
        "    self.trees = []\n",
        "\n",
        "  def fit(self, X, y):\n",
        "    m = len(y)\n",
        "    self.initial_prediction = np.mean(y)\n",
        "    residuals = y - self.initial_prediction\n",
        "\n",
        "    for _ in range(self.n_estimators):\n",
        "      tree = DecisionTreeRegressor(max_depth=self.max_depth)\n",
        "      tree.fit(X, residuals)\n",
        "      predictions = tree.predict(X)\n",
        "      self.trees.append(tree)\n",
        "      residuals -= self.learning_rate * predictions\n",
        "\n",
        "  def predict(self, X):\n",
        "    y_pred = np.full(X.shape[0], self.initial_prediction)\n",
        "    for tree in self.trees:\n",
        "      y_pred += self.learning_rate * tree.predict(X)\n",
        "    return y_pred\n"
      ],
      "metadata": {
        "id": "YeIzxMxhOLyx"
      },
      "execution_count": null,
      "outputs": []
    },
    {
      "cell_type": "code",
      "source": [
        "X = np.array([[1,2],[2,3],[3,4],[4,5],[5,6]])\n",
        "y=np.array([1,1,0,0,0])\n",
        "\n",
        "regressor = GradientBoostingRegressor(n_estimators=100, learning_rate=0.1, max_depth=10)\n",
        "regressor.fit(X, y)\n",
        "\n",
        "y_pred = regressor.predict(X)\n",
        "mse = np.mean((y_pred - y) ** 2)\n",
        "print(\"Mean Squared Error:\", mse)\n",
        "\n",
        "def r2_score_percentage(y_true, y_pred):\n",
        "  tss = np.sum((y_true - np.mean(y_true)) ** 2)\n",
        "  rss = np.sum((y_true - y_pred) ** 2)\n",
        "  r2_score = 1 - (rss / tss)\n",
        "\n",
        "  r2_percentage = r2_score * 100\n",
        "\n",
        "  return r2_percentage\n",
        "\n",
        "r2_percentage = r2_score_percentage(y, y_pred)\n",
        "print(\"R2 Score (Percentage):\", r2_percentage)"
      ],
      "metadata": {
        "colab": {
          "base_uri": "https://localhost:8080/"
        },
        "id": "h8vJOjkxRNBj",
        "outputId": "d7e510f4-8141-4e30-df14-26c120b65aa8"
      },
      "execution_count": null,
      "outputs": [
        {
          "output_type": "stream",
          "name": "stdout",
          "text": [
            "Mean Squared Error: 1.6932189860901083e-10\n",
            "R2 Score (Percentage): 99.99999992944922\n"
          ]
        }
      ]
    },
    {
      "cell_type": "code",
      "source": [],
      "metadata": {
        "id": "JARJMMOhSGLY"
      },
      "execution_count": null,
      "outputs": []
    }
  ]
}