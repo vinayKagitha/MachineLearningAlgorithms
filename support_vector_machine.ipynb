{
  "nbformat": 4,
  "nbformat_minor": 0,
  "metadata": {
    "colab": {
      "provenance": []
    },
    "kernelspec": {
      "name": "python3",
      "display_name": "Python 3"
    },
    "language_info": {
      "name": "python"
    }
  },
  "cells": [
    {
      "cell_type": "code",
      "execution_count": null,
      "metadata": {
        "id": "oazyoPH9SMKY"
      },
      "outputs": [],
      "source": [
        "#loss function 1-y(wx-b)<=0 i.e max(0,1-y(wx-b))\n",
        "#l=c||w||^2+(1/n)max(0,1-y(wx-b))"
      ]
    },
    {
      "cell_type": "code",
      "source": [
        "from sklearn.svm import SVC"
      ],
      "metadata": {
        "id": "bdldxBqIc04o"
      },
      "execution_count": null,
      "outputs": []
    },
    {
      "cell_type": "code",
      "source": [
        "import numpy as np\n",
        "X=np.array([[2,3],[1,1],[2,1],[4,5],[5,4],[6,6]])\n",
        "y=np.array([-1,-1,-1,1,1,1])\n"
      ],
      "metadata": {
        "id": "p0ZT6MQzc5Yu"
      },
      "execution_count": null,
      "outputs": []
    },
    {
      "cell_type": "code",
      "source": [
        "svm1=SVC(kernel='linear')\n",
        "svm1.fit(X,y)\n",
        "svm1.predict([[2,2]])"
      ],
      "metadata": {
        "colab": {
          "base_uri": "https://localhost:8080/"
        },
        "id": "cbWk_jnudUWZ",
        "outputId": "2e962fd2-a6d9-4f83-a487-90206b6c1f4b"
      },
      "execution_count": null,
      "outputs": [
        {
          "output_type": "execute_result",
          "data": {
            "text/plain": [
              "array([-1])"
            ]
          },
          "metadata": {},
          "execution_count": 5
        }
      ]
    },
    {
      "cell_type": "code",
      "source": [
        "acc=svm1.score(X,y)"
      ],
      "metadata": {
        "id": "mOVAft51dx4I"
      },
      "execution_count": null,
      "outputs": []
    },
    {
      "cell_type": "code",
      "source": [
        "acc"
      ],
      "metadata": {
        "colab": {
          "base_uri": "https://localhost:8080/"
        },
        "id": "Bqqxl7yYeHnq",
        "outputId": "657a8f21-b349-432c-f6e6-48ee11c34480"
      },
      "execution_count": null,
      "outputs": [
        {
          "output_type": "execute_result",
          "data": {
            "text/plain": [
              "1.0"
            ]
          },
          "metadata": {},
          "execution_count": 7
        }
      ]
    },
    {
      "cell_type": "code",
      "source": [],
      "metadata": {
        "id": "jA2fOTaMeIaS"
      },
      "execution_count": null,
      "outputs": []
    },
    {
      "cell_type": "markdown",
      "source": [
        "#without inbuilt functions"
      ],
      "metadata": {
        "id": "6xESYPJtevuH"
      }
    },
    {
      "cell_type": "code",
      "source": [
        "class SVM_classifier():\n",
        "  def __init__(self,learning_rate=0.001,C=0.001,no_of_iterations=1000):\n",
        "    self.learning_rate=learning_rate\n",
        "    self.C=C\n",
        "    self.no_of_iterations=no_of_iterations\n",
        "    self.w=None\n",
        "    self.b=None\n",
        "  def fit(self,X,Y):\n",
        "    n_samples,n_features=X.shape\n",
        "    self.w=np.zeros(n_features)\n",
        "    self.b=0\n",
        "    self.X=X\n",
        "    self.Y=Y\n",
        "    for i in range(self.no_of_iterations):\n",
        "      for idx in range(n_samples):\n",
        "        condition=y[idx]*(np.dot(X[idx],self.w)-self.b)>=1\n",
        "        if condition==True:\n",
        "          self.w=self.w-self.learning_rate*2*self.C*self.w\n",
        "        else:\n",
        "          self.w=self.w-self.learning_rate*(2*self.C*self.w-np.dot(X[idx],y[idx]))\n",
        "          self.b=self.b-self.learning_rate*y[idx]\n",
        "  def predict(self,X):\n",
        "    approx=np.dot(X,self.w)-self.b\n",
        "    #sign=[1 if i>0 else -1 for i in approx] we can use below one\n",
        "    sign=np.sign(approx)\n",
        "    return sign"
      ],
      "metadata": {
        "id": "MCkDLG5deav_"
      },
      "execution_count": null,
      "outputs": []
    },
    {
      "cell_type": "code",
      "source": [
        "model=SVM_classifier(learning_rate=0.01,C=0.01,no_of_iterations=108)\n",
        "model.fit(X,y)\n",
        "model.predict(X)"
      ],
      "metadata": {
        "colab": {
          "base_uri": "https://localhost:8080/"
        },
        "id": "YdF0j-8pg3DJ",
        "outputId": "82ff76ee-19a4-4843-96ae-7dbea2738d8a"
      },
      "execution_count": null,
      "outputs": [
        {
          "output_type": "execute_result",
          "data": {
            "text/plain": [
              "array([ 1., -1., -1.,  1.,  1.,  1.])"
            ]
          },
          "metadata": {},
          "execution_count": 52
        }
      ]
    },
    {
      "cell_type": "code",
      "source": [
        "def accuracy(y_true,y_pred):\n",
        "  acc=np.mean(y_true==y_pred)\n",
        "  return acc\n",
        "acc=accuracy(y,model.predict(X))\n",
        "acc"
      ],
      "metadata": {
        "colab": {
          "base_uri": "https://localhost:8080/"
        },
        "id": "kYn_lS0HiLPy",
        "outputId": "63ccb213-101b-4964-dccf-ae07c9f10e77"
      },
      "execution_count": null,
      "outputs": [
        {
          "output_type": "execute_result",
          "data": {
            "text/plain": [
              "0.8333333333333334"
            ]
          },
          "metadata": {},
          "execution_count": 53
        }
      ]
    },
    {
      "cell_type": "code",
      "source": [],
      "metadata": {
        "id": "6PMuI0k-kFPP"
      },
      "execution_count": null,
      "outputs": []
    }
  ]
}